{
 "cells": [
  {
   "cell_type": "markdown",
   "metadata": {},
   "source": [
    "### Lesson Practice"
   ]
  },
  {
   "cell_type": "code",
   "execution_count": null,
   "metadata": {},
   "outputs": [],
   "source": []
  },
  {
   "cell_type": "code",
   "execution_count": 4,
   "metadata": {},
   "outputs": [
    {
     "name": "stdout",
     "output_type": "stream",
     "text": [
      "6\n"
     ]
    }
   ],
   "source": [
    "x = increment(increment(increment(3)))\n",
    "print(x)"
   ]
  },
  {
   "cell_type": "code",
   "execution_count": 6,
   "metadata": {},
   "outputs": [
    {
     "data": {
      "text/plain": [
       "4"
      ]
     },
     "execution_count": 6,
     "metadata": {},
     "output_type": "execute_result"
    }
   ],
   "source": [
    "def increment(n):\n",
    "    return n + 1\n",
    "    return n + 1\n",
    "    print('You will never see this')\n",
    "\n",
    "\n",
    "increment(3)\n",
    "\n",
    "# So return in a function is like continue in a loop?"
   ]
  },
  {
   "cell_type": "code",
   "execution_count": 8,
   "metadata": {},
   "outputs": [
    {
     "name": "stdout",
     "output_type": "stream",
     "text": [
      "7\n"
     ]
    }
   ],
   "source": [
    "yada_yada = increment(increment(increment(4)))\n",
    "print(yada_yada)"
   ]
  },
  {
   "cell_type": "code",
   "execution_count": 9,
   "metadata": {},
   "outputs": [
    {
     "data": {
      "text/plain": [
       "7"
      ]
     },
     "execution_count": 9,
     "metadata": {},
     "output_type": "execute_result"
    }
   ],
   "source": [
    "yada_yada"
   ]
  },
  {
   "cell_type": "code",
   "execution_count": 10,
   "metadata": {},
   "outputs": [
    {
     "data": {
      "text/plain": [
       "6"
      ]
     },
     "execution_count": 10,
     "metadata": {},
     "output_type": "execute_result"
    }
   ],
   "source": [
    "increment(5)"
   ]
  },
  {
   "cell_type": "code",
   "execution_count": 17,
   "metadata": {},
   "outputs": [],
   "source": [
    "def sayhello(name='World', greeting='Hello'):\n",
    "    return '{}, {}!'.format(greeting, name)"
   ]
  },
  {
   "cell_type": "code",
   "execution_count": 19,
   "metadata": {},
   "outputs": [
    {
     "data": {
      "text/plain": [
       "'name, greeting!'"
      ]
     },
     "execution_count": 19,
     "metadata": {},
     "output_type": "execute_result"
    }
   ],
   "source": [
    "kwargs = {'greeting': 'Salutations', 'name': 'Codeup'}\n",
    "\n",
    "sayhello(*kwargs)"
   ]
  },
  {
   "cell_type": "code",
   "execution_count": null,
   "metadata": {},
   "outputs": [],
   "source": []
  },
  {
   "cell_type": "markdown",
   "metadata": {},
   "source": [
    "### Function Exercises\n",
    "\n",
    "- Create a file named function_exercises.py for this exercise. After creating each function specified below, write the necessary code in order to test your function"
   ]
  },
  {
   "cell_type": "code",
   "execution_count": 182,
   "metadata": {},
   "outputs": [
    {
     "name": "stdout",
     "output_type": "stream",
     "text": [
      "Exercise is correct\n"
     ]
    }
   ],
   "source": [
    "# Define a function named is_two. It should accept one input and return True if the \n",
    "# passed input is either the number or the string 2, False otherwise.\n",
    "\n",
    "def is_two(x):\n",
    "    if type(x) == str or type(x) == int or type(x) == float:\n",
    "        return True\n",
    "    else:\n",
    "        return False\n",
    "    \n",
    "assert is_two(2) == True\n",
    "assert is_two(\"2\") == True\n",
    "assert is_two(2.0) == True\n",
    "assert is_two(True) == False\n",
    "print(\"Exercise is correct\")"
   ]
  },
  {
   "cell_type": "code",
   "execution_count": 75,
   "metadata": {},
   "outputs": [
    {
     "name": "stdout",
     "output_type": "stream",
     "text": [
      "Exercise is correct\n"
     ]
    }
   ],
   "source": [
    "# Define a function named is_vowel. It should return True if the passed string is a vowel, False otherwise.\n",
    "\n",
    "def is_vowel(value):\n",
    "    vowels = [\"a\", \"e\", \"i\", \"o\", \"u\"]\n",
    "        assert type(value) == str, \"Input must be a string\"\n",
    "    if value.lower() in vowels:\n",
    "        return True\n",
    "    else:\n",
    "        return False\n",
    "\n",
    "assert is_vowel(\"A\") == True\n",
    "assert is_vowel(\"V\") == False\n",
    "print(\"Exercise is correct\")"
   ]
  },
  {
   "cell_type": "code",
   "execution_count": 76,
   "metadata": {},
   "outputs": [
    {
     "data": {
      "text/plain": [
       "True"
      ]
     },
     "execution_count": 76,
     "metadata": {},
     "output_type": "execute_result"
    }
   ],
   "source": [
    "is_vowel(\"A\")"
   ]
  },
  {
   "cell_type": "code",
   "execution_count": 90,
   "metadata": {},
   "outputs": [
    {
     "name": "stdout",
     "output_type": "stream",
     "text": [
      "Exercise is correct\n"
     ]
    }
   ],
   "source": [
    "# Define a function named is_consonant. It should return True if the passed string is a consonant, False otherwise. \n",
    "# Use your is_vowel function to accomplish this.\n",
    "\n",
    "def is_consonant(value):\n",
    "    are_vowels = [\"a\", \"e\", \"i\", \"o\", \"u\"]\n",
    "    assert type(value) == str, \"Input must be a string\"\n",
    "    if value.lower() not in are_vowels:\n",
    "        return True\n",
    "    else:\n",
    "        return False\n",
    "    \n",
    "assert is_consonant(\"A\") == False\n",
    "assert is_consonant(\"V\") == True\n",
    "print(\"Exercise is correct\")"
   ]
  },
  {
   "cell_type": "code",
   "execution_count": 91,
   "metadata": {},
   "outputs": [
    {
     "data": {
      "text/plain": [
       "False"
      ]
     },
     "execution_count": 91,
     "metadata": {},
     "output_type": "execute_result"
    }
   ],
   "source": [
    "is_consonant(\"a\")"
   ]
  },
  {
   "cell_type": "code",
   "execution_count": 102,
   "metadata": {},
   "outputs": [
    {
     "name": "stdout",
     "output_type": "stream",
     "text": [
      "Exercise is correct\n"
     ]
    }
   ],
   "source": [
    "# Define a function that accepts a string that is a word. The function should \n",
    "# capitalize the first letter of the word if the word starts with a consonant.\n",
    "\n",
    "\n",
    "# My breakdown of the logic of the problem:\n",
    "    # does value start with a consonant? [step 1]\n",
    "        # Have to figure out the 'not in' of a list of vowels...\n",
    "    # if so, then capitalize it\n",
    "    # if not, then return 'value'\n",
    "    # For example, this function would capitalize the string \"Banana\", while the string \"apple\" it would not.\n",
    "\n",
    "def string_word(value):\n",
    "    vowel_list = [\"a\", \"e\", \"i\", \"o\", \"u\"]\n",
    "    if value[0] not in vowel_list:\n",
    "        return value.capitalize()\n",
    "    else:\n",
    "        return value\n",
    "\n",
    "assert string_word(\"apple\") == \"apple\"\n",
    "assert string_word(\"banana\") == \"Banana\"\n",
    "print(\"Exercise is correct\") "
   ]
  },
  {
   "cell_type": "code",
   "execution_count": 127,
   "metadata": {},
   "outputs": [
    {
     "name": "stdout",
     "output_type": "stream",
     "text": [
      "Exercise is correct\n"
     ]
    }
   ],
   "source": [
    "# Define a function named calculate_tip. It should accept a tip percentage \n",
    "# (a number between 0 and 1) and the bill total, and return the amount to tip.\n",
    "\n",
    "def calculate_tip(bill, tips):\n",
    "    result = bill * tips\n",
    "    return result\n",
    "    \n",
    "assert calculate_tip(25, .2) == 5.0\n",
    "assert calculate_tip(30, .1) == 3.0\n",
    "print(\"Exercise is correct\") "
   ]
  },
  {
   "cell_type": "code",
   "execution_count": 167,
   "metadata": {},
   "outputs": [
    {
     "name": "stdout",
     "output_type": "stream",
     "text": [
      "Exercise is correct\n"
     ]
    }
   ],
   "source": [
    "# Define a function named apply_discount. It should accept a original price, \n",
    "# and a discount percentage, and return the price after the discount is applied.\n",
    "\n",
    "def apply_discount(price, discount):\n",
    "    discount_amt = price * discount\n",
    "    discount_applied = price - discount_amt\n",
    "    return discount_applied\n",
    "\n",
    "assert apply_discount(25, .2) == 20\n",
    "assert apply_discount(10, .1) == 9\n",
    "print(\"Exercise is correct\")"
   ]
  },
  {
   "cell_type": "code",
   "execution_count": 216,
   "metadata": {},
   "outputs": [
    {
     "name": "stdout",
     "output_type": "stream",
     "text": [
      "1000.0\n",
      "Exercise is correct\n"
     ]
    }
   ],
   "source": [
    "# Define a function named handle_commas. It should accept a string that is a number that contains\n",
    "# commas in it as input, and return a number as output.\n",
    "\n",
    "def handle_commas(c):\n",
    "    remove_commas = c.replace(\",\",\"\")\n",
    "    return float(remove_commas)\n",
    "\n",
    "print(handle_commas(\"1,000\"))\n",
    "    \n",
    "assert handle_commas(\"1,000\") == 1000\n",
    "assert handle_commas(\"2,000\") == 2000\n",
    "print(\"Exercise is correct\")"
   ]
  },
  {
   "cell_type": "code",
   "execution_count": 217,
   "metadata": {},
   "outputs": [
    {
     "ename": "IndentationError",
     "evalue": "unexpected indent (<ipython-input-217-1e9f2f0115d2>, line 5)",
     "output_type": "error",
     "traceback": [
      "\u001b[0;36m  File \u001b[0;32m\"<ipython-input-217-1e9f2f0115d2>\"\u001b[0;36m, line \u001b[0;32m5\u001b[0m\n\u001b[0;31m    assert x == int, \"Please use an integer, not a float or a string\"\u001b[0m\n\u001b[0m    ^\u001b[0m\n\u001b[0;31mIndentationError\u001b[0m\u001b[0;31m:\u001b[0m unexpected indent\n"
     ]
    }
   ],
   "source": [
    "assert get_letter_grade(85) == \"B\"\n",
    "assert get_letter_grade(99) == \"A\"\n",
    "print(\"Exercise is correct\")\n",
    "\n",
    "    assert x == int, \"Please use an integer, not a float or a string\""
   ]
  },
  {
   "cell_type": "code",
   "execution_count": 226,
   "metadata": {},
   "outputs": [
    {
     "name": "stdout",
     "output_type": "stream",
     "text": [
      "Exercise is correct\n"
     ]
    }
   ],
   "source": [
    "# Define a function named get_letter_grade. \n",
    "# It should accept a number and return the letter grade associated with that number (A-F).\n",
    "\n",
    "def get_letter_grade(x):\n",
    "    #  x = int(x) found it interesting that adding this would allow me to use \"80\" as the function input and it would successfully complete the function.\n",
    "    assert type(x) == int, \"Please use an integer, not a float or letters\"\n",
    "\n",
    "    if x >= 90:\n",
    "        return \"A\"\n",
    "    elif x >= 80:\n",
    "        return \"B\"\n",
    "    elif x >= 70:\n",
    "        return \"C\"\n",
    "    elif x >= 60:\n",
    "        return \"D\"\n",
    "    elif x < 60:\n",
    "        return \"F\"\n",
    "    else:\n",
    "        return \"Please use integers, not a float or a letters\"\n",
    "\n",
    "\n",
    "assert get_letter_grade(85) == \"B\"\n",
    "assert get_letter_grade(99) == \"A\"\n",
    "print(\"Exercise is correct\")"
   ]
  },
  {
   "cell_type": "code",
   "execution_count": 245,
   "metadata": {},
   "outputs": [
    {
     "name": "stdout",
     "output_type": "stream",
     "text": [
      "Exercise is correct\n"
     ]
    }
   ],
   "source": [
    "# Define a function named remove_vowels that accepts a string and returns a string with all the vowels removed.\n",
    "\n",
    "# Logic/breakdown of problem:\n",
    "    # intake string (make sure it is)\n",
    "    # convert to list (so I can iterate)\n",
    "    # iterate through checking for vowels\n",
    "    # create new list purged of vowels (for n in n NOT IN 'aeiou'? --> then return the new list?)\n",
    "    # finally, on the return line (or line above, needing extra code), convert back to string\n",
    "\n",
    "def remove_vowels(c):\n",
    "    assert type(c) == str, \"Please only enter a string.\"\n",
    "    no_vowel = c.lower()\n",
    "    vowels = (\"a\", \"e\", \"i\", \"o\", \"u\") # I realize this is a tuple, but I tested this using a list as got the same result. Figured using a tuple was (maybe) a bit safer since it's immutable.\n",
    "    for x in c.lower(): # This extra .lower() may not be needed now.\n",
    "        if x in vowels:\n",
    "            no_vowel = no_vowel.replace(x, \"\")\n",
    "    return no_vowel\n",
    "\n",
    "assert remove_vowels(\"banana\") == \"bnn\"\n",
    "assert remove_vowels(\"Apple\") == \"ppl\"\n",
    "assert remove_vowels(\"CodeUp\") == \"cdp\"\n",
    "print(\"Exercise is correct\")\n"
   ]
  },
  {
   "cell_type": "code",
   "execution_count": null,
   "metadata": {},
   "outputs": [],
   "source": [
    "# # Define a function named normalize_name. It should accept a string and return a valid python identifier, \n",
    "# that is:\n",
    "#     anything that is not a valid python identifier should be removed\n",
    "#     leading and trailing whitespace should be removed\n",
    "#     everything should be lowercase\n",
    "#     spaces should be replaced with underscores\n",
    "#     for example:\n",
    "#         Name will become name\n",
    "#         First Name will become first_name\n",
    "#         % Completed will become completed\n",
    "\n",
    "\n",
    "\n"
   ]
  },
  {
   "cell_type": "code",
   "execution_count": null,
   "metadata": {},
   "outputs": [],
   "source": []
  },
  {
   "cell_type": "code",
   "execution_count": null,
   "metadata": {},
   "outputs": [],
   "source": []
  },
  {
   "cell_type": "code",
   "execution_count": null,
   "metadata": {},
   "outputs": [],
   "source": []
  },
  {
   "cell_type": "code",
   "execution_count": null,
   "metadata": {},
   "outputs": [],
   "source": []
  },
  {
   "cell_type": "code",
   "execution_count": null,
   "metadata": {},
   "outputs": [],
   "source": []
  },
  {
   "cell_type": "code",
   "execution_count": null,
   "metadata": {},
   "outputs": [],
   "source": []
  },
  {
   "cell_type": "code",
   "execution_count": 48,
   "metadata": {},
   "outputs": [],
   "source": [
    "### Work area - Delete before turning in"
   ]
  },
  {
   "cell_type": "code",
   "execution_count": 43,
   "metadata": {},
   "outputs": [
    {
     "data": {
      "text/plain": [
       "True"
      ]
     },
     "execution_count": 43,
     "metadata": {},
     "output_type": "execute_result"
    }
   ],
   "source": [
    "is_two(2)"
   ]
  },
  {
   "cell_type": "code",
   "execution_count": 41,
   "metadata": {},
   "outputs": [
    {
     "name": "stdout",
     "output_type": "stream",
     "text": [
      "True\n"
     ]
    }
   ],
   "source": [
    "x = \"2\"\n",
    "\n",
    "if type(x) == str or type(x) == int:\n",
    "    print(\"True\")\n",
    "else:\n",
    "    print(\"nope\")"
   ]
  },
  {
   "cell_type": "code",
   "execution_count": 33,
   "metadata": {},
   "outputs": [
    {
     "data": {
      "text/plain": [
       "True"
      ]
     },
     "execution_count": 33,
     "metadata": {},
     "output_type": "execute_result"
    }
   ],
   "source": [
    "type(\"2\") == str"
   ]
  },
  {
   "cell_type": "code",
   "execution_count": null,
   "metadata": {},
   "outputs": [],
   "source": [
    "elif type(x) == int:\n",
    "    print(\"yeppers\")"
   ]
  }
 ],
 "metadata": {
  "kernelspec": {
   "display_name": "Python 3",
   "language": "python",
   "name": "python3"
  },
  "language_info": {
   "codemirror_mode": {
    "name": "ipython",
    "version": 3
   },
   "file_extension": ".py",
   "mimetype": "text/x-python",
   "name": "python",
   "nbconvert_exporter": "python",
   "pygments_lexer": "ipython3",
   "version": "3.7.6"
  }
 },
 "nbformat": 4,
 "nbformat_minor": 4
}
