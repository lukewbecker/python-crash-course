{
 "cells": [
  {
   "cell_type": "code",
   "execution_count": 1,
   "metadata": {},
   "outputs": [],
   "source": [
    "# Import and test 3 of the functions from your functions exercise file.\n",
    "# Import each function in a different way:"
   ]
  },
  {
   "cell_type": "code",
   "execution_count": 2,
   "metadata": {},
   "outputs": [
    {
     "data": {
      "text/plain": [
       "'Wed Aug  5 11:04:22 2020'"
      ]
     },
     "execution_count": 2,
     "metadata": {},
     "output_type": "execute_result"
    }
   ],
   "source": [
    "# import the module and refer to the function with the . syntax\n",
    "\n",
    "import time\n",
    "\n",
    "time.ctime()"
   ]
  },
  {
   "cell_type": "code",
   "execution_count": 7,
   "metadata": {},
   "outputs": [],
   "source": [
    "from datetime import datetime, timedelta"
   ]
  },
  {
   "cell_type": "code",
   "execution_count": 42,
   "metadata": {},
   "outputs": [
    {
     "data": {
      "text/plain": [
       "'11:56 AM'"
      ]
     },
     "execution_count": 42,
     "metadata": {},
     "output_type": "execute_result"
    }
   ],
   "source": [
    "datetime.datetime.now().time().strftime(\"%I:%M %p\")"
   ]
  },
  {
   "cell_type": "code",
   "execution_count": 5,
   "metadata": {},
   "outputs": [],
   "source": [
    "import os as operating_system"
   ]
  },
  {
   "cell_type": "code",
   "execution_count": 6,
   "metadata": {},
   "outputs": [
    {
     "data": {
      "text/plain": [
       "<module 'os' from '/Users/luke/opt/anaconda3/lib/python3.7/os.py'>"
      ]
     },
     "execution_count": 6,
     "metadata": {},
     "output_type": "execute_result"
    }
   ],
   "source": [
    "operating_system"
   ]
  },
  {
   "cell_type": "code",
   "execution_count": null,
   "metadata": {},
   "outputs": [],
   "source": [
    "datetime.datetime.now()"
   ]
  },
  {
   "cell_type": "code",
   "execution_count": 90,
   "metadata": {},
   "outputs": [],
   "source": [
    "# For the following exercises, read about and use the itertools module \n",
    "# from the standard library to help you solve the problem."
   ]
  },
  {
   "cell_type": "code",
   "execution_count": 100,
   "metadata": {},
   "outputs": [
    {
     "name": "stdout",
     "output_type": "stream",
     "text": [
      "You can combine 'abc' and '123' in 9 different ways\n",
      "[('a', '1'), ('a', '2'), ('a', '3'), ('b', '1'), ('b', '2'), ('b', '3'), ('c', '1'), ('c', '2'), ('c', '3')]\n"
     ]
    }
   ],
   "source": [
    "import itertools\n",
    "\n",
    "letter_count = list(itertools.product('abc', '123'))\n",
    "len(letter_count)\n",
    "print(f\"You can combine 'abc' and '123' in {len(letter_count)} different ways\")\n",
    "print(letter_count)"
   ]
  },
  {
   "cell_type": "code",
   "execution_count": null,
   "metadata": {},
   "outputs": [],
   "source": []
  },
  {
   "cell_type": "code",
   "execution_count": 101,
   "metadata": {},
   "outputs": [
    {
     "name": "stdout",
     "output_type": "stream",
     "text": [
      "You can combine 'abcd' in 6 different ways\n",
      "[('a', 'b'), ('a', 'c'), ('a', 'd'), ('b', 'c'), ('b', 'd'), ('c', 'd')]\n"
     ]
    }
   ],
   "source": [
    "# How many different ways can you combine two of the letters from \"abcd\"?\n",
    "\n",
    "# Use this function to get only unique combinations, in a list\n",
    "lettering_count = list(itertools.combinations(\"abcd\", 2))   \n",
    "\n",
    "# count how many entries are in the list\n",
    "len(lettering_count)\n",
    "\n",
    "# print out formatted answer to include the result of the count of elements in the list I created.\n",
    "print(f\"You can combine 'abcd' in {len(lettering_count)} different ways\")\n",
    "print(lettering_count)"
   ]
  },
  {
   "cell_type": "code",
   "execution_count": 308,
   "metadata": {},
   "outputs": [],
   "source": [
    "# Using this data, write some code that calculates and outputs the following information:\n",
    "    # Total number of users\n",
    "    # Number of active users\n",
    "    # Number of inactive users\n",
    "    # Grand total of balances for all users\n",
    "    # Average balance per user\n",
    "    # User with the lowest balance\n",
    "    # User with the highest balance\n",
    "    # Most common favorite fruit\n",
    "    # Least most common favorite fruit\n",
    "    # Total number of unread messages for all users\n",
    "\n",
    "import json\n",
    "jsonprofile_load = open('profiles.json')\n",
    "jpd = json.load(jsonprofile_load)"
   ]
  },
  {
   "cell_type": "code",
   "execution_count": 309,
   "metadata": {},
   "outputs": [
    {
     "name": "stdout",
     "output_type": "stream",
     "text": [
      "Total number of users is: 19\n"
     ]
    }
   ],
   "source": [
    "# Total number of users\n",
    "\n",
    "total_users_count = len(key_id)\n",
    "print(f\"Total number of users is: {total_users_count}\")"
   ]
  },
  {
   "cell_type": "code",
   "execution_count": 310,
   "metadata": {},
   "outputs": [
    {
     "data": {
      "text/plain": [
       "9"
      ]
     },
     "execution_count": 310,
     "metadata": {},
     "output_type": "execute_result"
    }
   ],
   "source": [
    "# Number of active users\n",
    "def check_active():\n",
    "    check_a = [x[\"_id\"] for x in jpd if x[\"isActive\"] == True]\n",
    "    return len(check_a)\n",
    "    \n",
    "check_active()"
   ]
  },
  {
   "cell_type": "code",
   "execution_count": 311,
   "metadata": {},
   "outputs": [
    {
     "data": {
      "text/plain": [
       "10"
      ]
     },
     "execution_count": 311,
     "metadata": {},
     "output_type": "execute_result"
    }
   ],
   "source": [
    "# Number of inactive users\n",
    "\n",
    "def not_active():\n",
    "    check_na = [x[\"_id\"] for x in jpd if x[\"isActive\"] == False]\n",
    "    return len(check_na)\n",
    "not_active()"
   ]
  },
  {
   "cell_type": "code",
   "execution_count": 312,
   "metadata": {},
   "outputs": [
    {
     "data": {
      "text/plain": [
       "52667.02"
      ]
     },
     "execution_count": 312,
     "metadata": {},
     "output_type": "execute_result"
    }
   ],
   "source": [
    "# Grand total of balances for all users\n",
    "\n",
    "def grand_total():\n",
    "    total_balance = 0\n",
    "    for x in jpd:\n",
    "        total_balance += float(x[\"balance\"].replace(\",\",\"\").replace(\"$\",\"\"))\n",
    "    return total_balance\n",
    "grand_total()"
   ]
  },
  {
   "cell_type": "code",
   "execution_count": 313,
   "metadata": {},
   "outputs": [
    {
     "data": {
      "text/plain": [
       "2771.9484210526316"
      ]
     },
     "execution_count": 313,
     "metadata": {},
     "output_type": "execute_result"
    }
   ],
   "source": [
    "# Average balance per user\n",
    "\n",
    "def avg_bal():\n",
    "    total_balance = grand_total\n",
    "    user_num = len(key_id)\n",
    "    user_avg_bal = (grand_total() / user_num)\n",
    "    return user_avg_bal\n",
    "avg_bal()\n"
   ]
  },
  {
   "cell_type": "code",
   "execution_count": 314,
   "metadata": {},
   "outputs": [
    {
     "data": {
      "text/plain": [
       "['Avery Flynn']"
      ]
     },
     "execution_count": 314,
     "metadata": {},
     "output_type": "execute_result"
    }
   ],
   "source": [
    "# User with the lowest balance\n",
    "\n",
    "def user_min_bal():\n",
    "    minimum_bal = min([x[\"balance\"] for x in jpd])\n",
    "    user_name = [n[\"name\"] for n in jpd if n[\"balance\"] == minimum_bal]\n",
    "    return user_name\n",
    "user_min_bal()\n",
    "    "
   ]
  },
  {
   "cell_type": "code",
   "execution_count": 315,
   "metadata": {},
   "outputs": [
    {
     "data": {
      "text/plain": [
       "['Fay Hammond']"
      ]
     },
     "execution_count": 315,
     "metadata": {},
     "output_type": "execute_result"
    }
   ],
   "source": [
    "# User with the highest balance\n",
    "\n",
    "def user_max_bal():\n",
    "    max_bal = max([x[\"balance\"] for x in jpd])\n",
    "    user_name = [n[\"name\"] for n in jpd if n[\"balance\"] == max_bal]\n",
    "    return user_name\n",
    "user_max_bal()"
   ]
  },
  {
   "cell_type": "code",
   "execution_count": 316,
   "metadata": {},
   "outputs": [
    {
     "data": {
      "text/plain": [
       "(9, 'strawberry')"
      ]
     },
     "execution_count": 316,
     "metadata": {},
     "output_type": "execute_result"
    }
   ],
   "source": [
    "# Most common favorite fruit\n",
    "\n",
    "\n",
    "def favorite_fruit():\n",
    "    a = 0\n",
    "    b = 0\n",
    "    s = 0\n",
    "    for x in jpd:\n",
    "        if x[\"favoriteFruit\"] == \"apple\":\n",
    "            a += 1\n",
    "        elif x[\"favoriteFruit\"] == \"banana\":\n",
    "            b += 1\n",
    "        elif x[\"favoriteFruit\"] == \"strawberry\":\n",
    "            s += 1\n",
    "#         print(a, x[\"favoriteFruit\"])\n",
    "#         print(b, x[\"favoriteFruit\"])\n",
    "#         print(s, x[\"favoriteFruit\"])\n",
    "    fruit_total = [{\"fruit\": \"apple\", \"num\": a}, {\"fruit\": \"banana\", \"num\": b}, {\"fruit\": \"strawberry\", \"num\": s}]\n",
    "    # creating a tuple:\n",
    "    max_fruit = (max([x[\"num\"] for x in fruit_total]), max([x[\"fruit\"] for x in fruit_total]))\n",
    "    return max_fruit\n",
    "favorite_fruit()\n"
   ]
  },
  {
   "cell_type": "code",
   "execution_count": 317,
   "metadata": {},
   "outputs": [
    {
     "data": {
      "text/plain": [
       "(4, 'apple')"
      ]
     },
     "execution_count": 317,
     "metadata": {},
     "output_type": "execute_result"
    }
   ],
   "source": [
    "# Least most common favorite fruit\n",
    "\n",
    "def least_favorite_fruit():\n",
    "    a = 0\n",
    "    b = 0\n",
    "    s = 0\n",
    "    for x in jpd:\n",
    "        if x[\"favoriteFruit\"] == \"apple\":\n",
    "            a += 1\n",
    "        elif x[\"favoriteFruit\"] == \"banana\":\n",
    "            b += 1\n",
    "        elif x[\"favoriteFruit\"] == \"strawberry\":\n",
    "            s += 1\n",
    "#         print(a, x[\"favoriteFruit\"])\n",
    "#         print(b, x[\"favoriteFruit\"])\n",
    "#         print(s, x[\"favoriteFruit\"])\n",
    "    fruit_total = [{\"fruit\": \"apple\", \"num\": a}, {\"fruit\": \"banana\", \"num\": b}, {\"fruit\": \"strawberry\", \"num\": s}]\n",
    "    # creating a tuple:\n",
    "    min_fruit = (min([x[\"num\"] for x in fruit_total]), min([x[\"fruit\"] for x in fruit_total]))\n",
    "    return min_fruit\n",
    "\n",
    "least_favorite_fruit()"
   ]
  },
  {
   "cell_type": "code",
   "execution_count": 318,
   "metadata": {},
   "outputs": [
    {
     "name": "stdout",
     "output_type": "stream",
     "text": [
      "The total number of unread messages is: 210.\n"
     ]
    }
   ],
   "source": [
    "# Total number of unread messages for all users\n",
    "# Going to try using Regex module. I'm not sure I like what all that modeule does, but I think it's good to try something new and learn.\n",
    "\n",
    "import re\n",
    "\n",
    "def total_msgs():\n",
    "    total_unread = 0\n",
    "    # convert all greetings to one big string\n",
    "    string_convert = str([x['greeting'] for x in jpd])\n",
    "    # Extract all numbers, as a list of strings\n",
    "    msg_nums = re.findall('[0-9]+', string_convert)\n",
    "    # Convert strings to ints, using list comprehension\n",
    "    msg_nums = [int(i) for i in total_msg_count_2]\n",
    "    # Now, sum the list for total unread msgs\n",
    "    total_unread = sum(msg_nums)\n",
    "    return total_unread\n",
    "total_msgs()\n",
    "print(f\"The total number of unread messages is: {total_msgs()}.\")\n",
    "\n",
    "# I'm sure there's a much more elegant way to accomplish this problem. I'm looking forward to seeing how others solved it."
   ]
  }
 ],
 "metadata": {
  "kernelspec": {
   "display_name": "Python 3",
   "language": "python",
   "name": "python3"
  },
  "language_info": {
   "codemirror_mode": {
    "name": "ipython",
    "version": 3
   },
   "file_extension": ".py",
   "mimetype": "text/x-python",
   "name": "python",
   "nbconvert_exporter": "python",
   "pygments_lexer": "ipython3",
   "version": "3.7.6"
  }
 },
 "nbformat": 4,
 "nbformat_minor": 4
}
