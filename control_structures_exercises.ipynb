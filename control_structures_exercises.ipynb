{
 "cells": [
  {
   "cell_type": "markdown",
   "metadata": {},
   "source": [
    "### Control Structures\n",
    "- For loops\n",
    "- While loops\n",
    "- Break and Continue"
   ]
  },
  {
   "cell_type": "markdown",
   "metadata": {},
   "source": [
    "### Conditional Basics"
   ]
  },
  {
   "cell_type": "code",
   "execution_count": 4,
   "metadata": {},
   "outputs": [
    {
     "name": "stdout",
     "output_type": "stream",
     "text": [
      "What day of the week is it? Monday\n",
      "Today is Monday\n"
     ]
    }
   ],
   "source": [
    "day_input = input(\"What day of the week is it? \")\n",
    "\n",
    "if day_input == \"Monday\":\n",
    "    print(\"Today is Monday\")\n",
    "else:\n",
    "    print(\"It isn't Monday\")"
   ]
  },
  {
   "cell_type": "code",
   "execution_count": 12,
   "metadata": {},
   "outputs": [
    {
     "name": "stdout",
     "output_type": "stream",
     "text": [
      "What day of the week is it? friday\n",
      "It is a weekday, I get to learn python!\n"
     ]
    }
   ],
   "source": [
    "week_days = [\"Monday\", \"Tuesday\", \"Wednesday\", \"Thursday\", \"Friday\"]\n",
    "weekend_days = [\"Saturday\", \"Sunday\"]\n",
    "\n",
    "day_week_input = input(\"What day of the week is it? \").capitalize()\n",
    "\n",
    "if day_week_input in week_days:\n",
    "    print(\"It is a weekday, I get to learn python!\")\n",
    "else:\n",
    "    print(\"Yay it's the weekend!!!\")"
   ]
  },
  {
   "cell_type": "code",
   "execution_count": 18,
   "metadata": {},
   "outputs": [
    {
     "name": "stdout",
     "output_type": "stream",
     "text": [
      "How many hours did you work this week? \n",
      "40\n",
      "40404040404040404040404040404040404040404040404040\n"
     ]
    }
   ],
   "source": [
    "print(\"How many hours did you work this week? \")\n",
    "number_hours_worked = input()\n",
    "my_hourly_rate = 25\n",
    "weekly_paycheck = number_hours_worked * my_hourly_rate\n",
    "print(weekly_paycheck)"
   ]
  },
  {
   "cell_type": "code",
   "execution_count": null,
   "metadata": {},
   "outputs": [],
   "source": []
  }
 ],
 "metadata": {
  "kernelspec": {
   "display_name": "Python 3",
   "language": "python",
   "name": "python3"
  },
  "language_info": {
   "codemirror_mode": {
    "name": "ipython",
    "version": 3
   },
   "file_extension": ".py",
   "mimetype": "text/x-python",
   "name": "python",
   "nbconvert_exporter": "python",
   "pygments_lexer": "ipython3",
   "version": "3.7.6"
  }
 },
 "nbformat": 4,
 "nbformat_minor": 4
}
