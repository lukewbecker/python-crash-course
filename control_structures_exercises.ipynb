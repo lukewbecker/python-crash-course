{
 "cells": [
  {
   "cell_type": "markdown",
   "metadata": {},
   "source": [
    "### Control Structures\n",
    "- For loops\n",
    "- While loops\n",
    "- Break and Continue"
   ]
  },
  {
   "cell_type": "markdown",
   "metadata": {},
   "source": [
    "### Conditional Basics"
   ]
  },
  {
   "cell_type": "code",
   "execution_count": 4,
   "metadata": {},
   "outputs": [
    {
     "name": "stdout",
     "output_type": "stream",
     "text": [
      "What day of the week is it? Monday\n",
      "Today is Monday\n"
     ]
    }
   ],
   "source": [
    "# Prompt the user for a day of the week, print out whether the day is Monday or not\n",
    "day_input = input(\"What day of the week is it? \")\n",
    "\n",
    "if day_input == \"Monday\":\n",
    "    print(\"Today is Monday\")\n",
    "else:\n",
    "    print(\"It isn't Monday\")"
   ]
  },
  {
   "cell_type": "code",
   "execution_count": 12,
   "metadata": {},
   "outputs": [
    {
     "name": "stdout",
     "output_type": "stream",
     "text": [
      "What day of the week is it? friday\n",
      "It is a weekday, I get to learn python!\n"
     ]
    }
   ],
   "source": [
    "# prompt the user for a day of the week, print out whether the day is a weekday or a weekend\n",
    "week_days = [\"Monday\", \"Tuesday\", \"Wednesday\", \"Thursday\", \"Friday\"]\n",
    "weekend_days = [\"Saturday\", \"Sunday\"]\n",
    "\n",
    "day_week_input = input(\"What day of the week is it? \").capitalize()\n",
    "\n",
    "if day_week_input in week_days:\n",
    "    print(\"It is a weekday, I get to learn python!\")\n",
    "else:\n",
    "    print(\"Yay it's the weekend!!!\")"
   ]
  },
  {
   "cell_type": "code",
   "execution_count": 31,
   "metadata": {},
   "outputs": [
    {
     "name": "stdout",
     "output_type": "stream",
     "text": [
      "How many hours did you work this week? 50\n",
      "Your hourly rate is: \n",
      "37.5\n",
      "And your weekly paycheck is: \n",
      "1875.0\n"
     ]
    }
   ],
   "source": [
    "# Write the python code that calculates the weekly paycheck.\n",
    "number_hours_worked = int(input(\"How many hours did you work this week? \"))\n",
    "my_hourly_rate = 25\n",
    "\n",
    "if number_hours_worked > 40:\n",
    "    my_hourly_rate = my_hourly_rate * 1.5\n",
    "else:\n",
    "    my_hourly_rate\n",
    "\n",
    "weekly_paycheck = number_hours_worked * my_hourly_rate\n",
    "print(\"Your hourly rate is: \")\n",
    "print(my_hourly_rate)\n",
    "print(\"And your weekly paycheck is: \")\n",
    "print(weekly_paycheck)"
   ]
  },
  {
   "cell_type": "code",
   "execution_count": 34,
   "metadata": {},
   "outputs": [
    {
     "name": "stdout",
     "output_type": "stream",
     "text": [
      "5\n",
      "6\n",
      "7\n",
      "8\n",
      "9\n",
      "10\n",
      "11\n",
      "12\n",
      "13\n",
      "14\n",
      "15\n"
     ]
    }
   ],
   "source": [
    "# Loop basics question 1:\n",
    "i = 5\n",
    "while i <= 15:\n",
    "    print(i)\n",
    "    i += 1"
   ]
  },
  {
   "cell_type": "code",
   "execution_count": 36,
   "metadata": {},
   "outputs": [
    {
     "name": "stdout",
     "output_type": "stream",
     "text": [
      "2\n",
      "4\n",
      "6\n",
      "8\n",
      "10\n",
      "12\n",
      "14\n",
      "16\n",
      "18\n",
      "20\n",
      "22\n",
      "24\n",
      "26\n",
      "28\n",
      "30\n",
      "32\n",
      "34\n",
      "36\n",
      "38\n",
      "40\n",
      "42\n",
      "44\n",
      "46\n",
      "48\n",
      "50\n",
      "52\n",
      "54\n",
      "56\n",
      "58\n",
      "60\n",
      "62\n",
      "64\n",
      "66\n",
      "68\n",
      "70\n",
      "72\n",
      "74\n",
      "76\n",
      "78\n",
      "80\n",
      "82\n",
      "84\n",
      "86\n",
      "88\n",
      "90\n",
      "92\n",
      "94\n",
      "96\n",
      "98\n",
      "100\n"
     ]
    }
   ],
   "source": [
    "# More basic loop exercises\n",
    "n = 2\n",
    "while n <= 100:\n",
    "    print(n)\n",
    "    n += 2"
   ]
  },
  {
   "cell_type": "code",
   "execution_count": 1,
   "metadata": {},
   "outputs": [
    {
     "name": "stdout",
     "output_type": "stream",
     "text": [
      "100\n",
      "95\n",
      "90\n",
      "85\n",
      "80\n",
      "75\n",
      "70\n",
      "65\n",
      "60\n",
      "55\n",
      "50\n",
      "45\n",
      "40\n",
      "35\n",
      "30\n",
      "25\n",
      "20\n",
      "15\n",
      "10\n",
      "5\n",
      "0\n",
      "-5\n",
      "-10\n"
     ]
    }
   ],
   "source": [
    "n = 100\n",
    "while n >= -10:\n",
    "    print(n)\n",
    "    n -= 5"
   ]
  },
  {
   "cell_type": "code",
   "execution_count": 2,
   "metadata": {},
   "outputs": [
    {
     "name": "stdout",
     "output_type": "stream",
     "text": [
      "2\n",
      "4\n",
      "16\n",
      "256\n",
      "65536\n"
     ]
    }
   ],
   "source": [
    "n = 2\n",
    "while n <= 1000000:\n",
    "    print(n)\n",
    "    n **= 2"
   ]
  },
  {
   "cell_type": "code",
   "execution_count": 3,
   "metadata": {},
   "outputs": [
    {
     "name": "stdout",
     "output_type": "stream",
     "text": [
      "100\n",
      "95\n",
      "90\n",
      "85\n",
      "80\n",
      "75\n",
      "70\n",
      "65\n",
      "60\n",
      "55\n",
      "50\n",
      "45\n",
      "40\n",
      "35\n",
      "30\n",
      "25\n",
      "20\n",
      "15\n",
      "10\n",
      "5\n"
     ]
    }
   ],
   "source": [
    "n = 100\n",
    "while n >= 5:\n",
    "    print(n)\n",
    "    n -= 5"
   ]
  },
  {
   "cell_type": "code",
   "execution_count": 17,
   "metadata": {},
   "outputs": [
    {
     "name": "stdout",
     "output_type": "stream",
     "text": [
      "Pick a number: 7\n",
      "[7, 14, 21, 28, 35, 42, 49, 56, 63, 70]\n"
     ]
    }
   ],
   "source": [
    "# Write some code that prompts the user for a number, \n",
    "# then shows a multiplication table up through 10 for that number.\n",
    "# Solution to first For loop exercise:\n",
    "\n",
    "x = int(input(\"Pick a number: \"))\n",
    "multiples_table = list(range(1, 11))\n",
    "\n",
    "my_list = []\n",
    "\n",
    "for i in multiples_table:\n",
    "#    print(i)\n",
    "#    print(x)\n",
    "    my_list.append(i * x)\n",
    "    \n",
    "print(my_list)"
   ]
  },
  {
   "cell_type": "code",
   "execution_count": 45,
   "metadata": {},
   "outputs": [
    {
     "name": "stdout",
     "output_type": "stream",
     "text": [
      "1\n",
      "22\n",
      "333\n",
      "4444\n",
      "55555\n",
      "666666\n",
      "7777777\n",
      "88888888\n",
      "999999999\n"
     ]
    }
   ],
   "source": [
    "# Create a for loop that uses print to create the output shown below.\n",
    "\n",
    "for n in range(1, 10):\n",
    "    print(f\"{n}\" * n)"
   ]
  },
  {
   "cell_type": "markdown",
   "metadata": {},
   "source": [
    "### Break and Continue Exercises"
   ]
  },
  {
   "cell_type": "code",
   "execution_count": 68,
   "metadata": {},
   "outputs": [
    {
     "name": "stdout",
     "output_type": "stream",
     "text": [
      "Please pick an odd number between 1 - 50: \n",
      "Enter an odd number: 27\n",
      "Here is an odd number: 1\n",
      "Here is an odd number: 3\n",
      "Here is an odd number: 5\n",
      "Here is an odd number: 7\n",
      "Here is an odd number: 9\n",
      "Here is an odd number: 11\n",
      "Here is an odd number: 13\n",
      "Here is an odd number: 15\n",
      "Here is an odd number: 17\n",
      "Here is an odd number: 19\n",
      "Here is an odd number: 21\n",
      "Here is an odd number: 23\n",
      "Here is an odd number: 25\n",
      "Yikes! skipping number: 27\n",
      "Here is an odd number: 29\n",
      "Here is an odd number: 31\n",
      "Here is an odd number: 33\n",
      "Here is an odd number: 35\n",
      "Here is an odd number: 37\n",
      "Here is an odd number: 39\n",
      "Here is an odd number: 41\n",
      "Here is an odd number: 43\n",
      "Here is an odd number: 45\n",
      "Here is an odd number: 47\n",
      "Here is an odd number: 49\n"
     ]
    }
   ],
   "source": [
    "user_input = 0\n",
    "\n",
    "while user_input % 2 == 0:\n",
    "    print(\"Please pick an odd number between 1 - 50: \")\n",
    "    user_input = input(\"Enter an odd number: \")\n",
    "    if user_input.isdigit() == False:\n",
    "        user_input = 0\n",
    "        continue\n",
    "    else:\n",
    "        user_input = int(user_input)\n",
    "        if user_input % 2 != 0 and user_input > 0 and user_input < 51:\n",
    "            break\n",
    "\n",
    "for n in range(51):\n",
    "    if n % 2 == 0:\n",
    "        continue\n",
    "    if n == user_input:\n",
    "        print(\"Yikes! skipping number: {}\".format(n))\n",
    "        continue\n",
    "    print('Here is an odd number: {}'.format(n))"
   ]
  },
  {
   "cell_type": "code",
   "execution_count": null,
   "metadata": {},
   "outputs": [],
   "source": []
  }
 ],
 "metadata": {
  "kernelspec": {
   "display_name": "Python 3",
   "language": "python",
   "name": "python3"
  },
  "language_info": {
   "codemirror_mode": {
    "name": "ipython",
    "version": 3
   },
   "file_extension": ".py",
   "mimetype": "text/x-python",
   "name": "python",
   "nbconvert_exporter": "python",
   "pygments_lexer": "ipython3",
   "version": "3.7.6"
  }
 },
 "nbformat": 4,
 "nbformat_minor": 4
}
