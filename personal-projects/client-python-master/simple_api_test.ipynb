{
 "cells": [
  {
   "cell_type": "code",
   "execution_count": 1,
   "metadata": {},
   "outputs": [],
   "source": [
    "# Simple test of api key"
   ]
  },
  {
   "cell_type": "code",
   "execution_count": 2,
   "metadata": {},
   "outputs": [],
   "source": [
    "import time"
   ]
  },
  {
   "cell_type": "code",
   "execution_count": 3,
   "metadata": {},
   "outputs": [],
   "source": [
    "from polygon import WebSocketClient, STOCKS_CLUSTER"
   ]
  },
  {
   "cell_type": "code",
   "execution_count": 4,
   "metadata": {},
   "outputs": [],
   "source": [
    "def my_customer_process_message(message):\n",
    "    print(\"this is my custom message processing\", message)"
   ]
  },
  {
   "cell_type": "code",
   "execution_count": 5,
   "metadata": {},
   "outputs": [],
   "source": [
    "def main():\n",
    "    key = 'Wsd_l6Mcnd6capWLdFb_n_niG0SqxAmmHZ3VmJ'\n",
    "    my_client = WebSocketClient(STOCKS_CLUSTER, key, my_customer_process_message)\n",
    "    my_client.run_async()\n",
    "\n",
    "    my_client.subscribe(\"T.MSFT\", \"T.AAPL\", \"T.AMD\", \"T.NVDA\")\n",
    "    time.sleep(2)\n",
    "\n",
    "    my_client.close_connection()"
   ]
  },
  {
   "cell_type": "code",
   "execution_count": 6,
   "metadata": {},
   "outputs": [
    {
     "name": "stdout",
     "output_type": "stream",
     "text": [
      "this is my custom message processing [{\"ev\":\"status\",\"status\":\"connected\",\"message\":\"Connected Successfully\"}]\n",
      "this is my custom message processing [{\"ev\":\"status\",\"status\":\"auth_success\",\"message\":\"authenticated\"}]\n",
      "this is my custom message processing [{\"ev\":\"status\",\"status\":\"success\",\"message\":\"subscribed to: T.MSFT\"}]\n",
      "this is my custom message processing [{\"ev\":\"status\",\"status\":\"success\",\"message\":\"subscribed to: T.AAPL\"}]\n",
      "this is my custom message processing [{\"ev\":\"status\",\"status\":\"success\",\"message\":\"subscribed to: T.AMD\"}]\n",
      "this is my custom message processing [{\"ev\":\"status\",\"status\":\"success\",\"message\":\"subscribed to: T.NVDA\"}]\n"
     ]
    }
   ],
   "source": [
    "if __name__ == \"__main__\":\n",
    "    main()"
   ]
  },
  {
   "cell_type": "code",
   "execution_count": null,
   "metadata": {},
   "outputs": [],
   "source": []
  }
 ],
 "metadata": {
  "kernelspec": {
   "display_name": "Python 3",
   "language": "python",
   "name": "python3"
  },
  "language_info": {
   "codemirror_mode": {
    "name": "ipython",
    "version": 3
   },
   "file_extension": ".py",
   "mimetype": "text/x-python",
   "name": "python",
   "nbconvert_exporter": "python",
   "pygments_lexer": "ipython3",
   "version": "3.7.6"
  }
 },
 "nbformat": 4,
 "nbformat_minor": 4
}
